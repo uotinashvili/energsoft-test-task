{
 "cells": [
  {
   "cell_type": "markdown",
   "id": "b7bb5ada",
   "metadata": {},
   "source": [
    "# Verify Data from Energsoft API\n",
    "This notebook sends a GET request to the Energsoft API endpoint to retrieve measurements using JWT token authentication."
   ]
  },
  {
   "cell_type": "code",
   "execution_count": 36,
   "id": "2ac398d5",
   "metadata": {},
   "outputs": [],
   "source": [
    "# Required libraries\n",
    "import requests\n",
    "import json"
   ]
  },
  {
   "cell_type": "code",
   "execution_count": 40,
   "id": "ccd365f4",
   "metadata": {},
   "outputs": [],
   "source": [
    "# Configuration\n",
    "base_url = \"http://localhost:5103\"  # Change if needed\n",
    "api_key = \"api_key_4\"  # Replace with your API key"
   ]
  },
  {
   "cell_type": "code",
   "execution_count": 41,
   "id": "6dd8ef1b",
   "metadata": {},
   "outputs": [
    {
     "name": "stdout",
     "output_type": "stream",
     "text": [
      "Failed to get token: 401 - Invalid API key\n"
     ]
    }
   ],
   "source": [
    "# Get JWT Token\n",
    "token_endpoint = f\"{base_url}/api/auth/token\"\n",
    "headers = {\n",
    "    \"X-API-Key\": api_key\n",
    "}\n",
    "\n",
    "response = requests.post(token_endpoint, headers=headers)\n",
    "if response.status_code == 200:\n",
    "    token_data = response.json()\n",
    "    jwt_token = token_data[\"token\"]\n",
    "    print(\"Successfully obtained JWT token\")\n",
    "else:\n",
    "    print(f\"Failed to get token: {response.status_code} - {response.text}\")"
   ]
  },
  {
   "cell_type": "code",
   "execution_count": null,
   "id": "4a9fbced",
   "metadata": {},
   "outputs": [],
   "source": [
    "# Get Measurements\n",
    "measurements_endpoint = f\"{base_url}/api/measurements?page=1&pageSize=3&continuationToken=\"\n",
    "headers = {\n",
    "    \"Authorization\": f\"Bearer {jwt_token}\"\n",
    "}\n",
    "\n",
    "response = requests.get(measurements_endpoint, headers=headers)\n",
    "if response.status_code == 200:\n",
    "    data = response.json()\n",
    "    print(\"Successfully retrieved measurements\")\n",
    "    print(json.dumps(data, indent=4))\n",
    "else:\n",
    "    print(f\"Failed to retrieve measurements: {response.status_code} - {response.text}\")"
   ]
  },
  {
   "cell_type": "code",
   "execution_count": null,
   "id": "b756d94f-d465-419c-8871-b07f93227cdf",
   "metadata": {},
   "outputs": [],
   "source": []
  }
 ],
 "metadata": {
  "kernelspec": {
   "display_name": "Python 3 (ipykernel)",
   "language": "python",
   "name": "python3"
  },
  "language_info": {
   "codemirror_mode": {
    "name": "ipython",
    "version": 3
   },
   "file_extension": ".py",
   "mimetype": "text/x-python",
   "name": "python",
   "nbconvert_exporter": "python",
   "pygments_lexer": "ipython3",
   "version": "3.9.6"
  }
 },
 "nbformat": 4,
 "nbformat_minor": 5
}
