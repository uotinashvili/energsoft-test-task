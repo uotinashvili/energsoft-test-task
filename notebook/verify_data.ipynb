{
 "cells": [
  {
   "cell_type": "markdown",
   "id": "b7bb5ada",
   "metadata": {},
   "source": [
    "# Verify Data from Energsoft API\n",
    "This notebook sends a GET request to the Energsoft API endpoint to retrieve measurements using a tenant token for security."
   ]
  },
  {
   "cell_type": "code",
   "execution_count": 4,
   "id": "2ac398d5",
   "metadata": {},
   "outputs": [],
   "source": [
    "# Required libraries\n",
    "import requests\n",
    "import json"
   ]
  },
  {
   "cell_type": "code",
   "execution_count": 9,
   "id": "ccd365f4",
   "metadata": {},
   "outputs": [],
   "source": [
    "# Configuration\n",
    "base_url = \"http://localhost:5103\"  # Change if needed\n",
    "endpoint = \"/api/measurements?page=1&pageSize=2\" # Change page and pageSize if needed\n",
    "token = \"Tenant_1_token\"  # Actual token values (Tenant_1_token, Tenant_2_token)"
   ]
  },
  {
   "cell_type": "code",
   "execution_count": 10,
   "id": "4a9fbced",
   "metadata": {},
   "outputs": [
    {
     "name": "stdout",
     "output_type": "stream",
     "text": [
      "{\n",
      "    \"totalCount\": 3,\n",
      "    \"items\": [\n",
      "        {\n",
      "            \"id\": 1,\n",
      "            \"voltage\": 220,\n",
      "            \"current\": 10,\n",
      "            \"temperature\": 36.5,\n",
      "            \"timestamp\": \"2025-04-29T16:18:36.5766667\"\n",
      "        },\n",
      "        {\n",
      "            \"id\": 2,\n",
      "            \"voltage\": 221,\n",
      "            \"current\": 11,\n",
      "            \"temperature\": 37,\n",
      "            \"timestamp\": \"2025-04-29T16:18:36.5766667\"\n",
      "        }\n",
      "    ]\n",
      "}\n"
     ]
    }
   ],
   "source": [
    "# Send request\n",
    "headers = {\n",
    "    \"X-Tenant-Token\": token\n",
    "}\n",
    "response = requests.get(base_url + endpoint, headers=headers)\n",
    "\n",
    "# Check and display result\n",
    "if response.status_code == 200:\n",
    "    data = response.json()\n",
    "    print(json.dumps(data, indent=4))\n",
    "else:\n",
    "    print(f\"Failed to retrieve data: {response.status_code} - {response.text}\")"
   ]
  },
  {
   "cell_type": "code",
   "execution_count": null,
   "id": "b756d94f-d465-419c-8871-b07f93227cdf",
   "metadata": {},
   "outputs": [],
   "source": []
  }
 ],
 "metadata": {
  "kernelspec": {
   "display_name": "Python 3 (ipykernel)",
   "language": "python",
   "name": "python3"
  },
  "language_info": {
   "codemirror_mode": {
    "name": "ipython",
    "version": 3
   },
   "file_extension": ".py",
   "mimetype": "text/x-python",
   "name": "python",
   "nbconvert_exporter": "python",
   "pygments_lexer": "ipython3",
   "version": "3.9.6"
  }
 },
 "nbformat": 4,
 "nbformat_minor": 5
}
