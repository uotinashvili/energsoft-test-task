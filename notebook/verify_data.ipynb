{
 "cells": [
  {
   "cell_type": "markdown",
   "id": "b7bb5ada",
   "metadata": {},
   "source": [
    "# Verify Data from Energsoft API\n",
    "This notebook sends a GET request to the Energsoft API endpoint to retrieve measurements using a tenant token for security."
   ]
  },
  {
   "cell_type": "code",
   "execution_count": 4,
   "id": "2ac398d5",
   "metadata": {},
   "outputs": [],
   "source": [
    "# Required libraries\n",
    "import requests\n",
    "import json"
   ]
  },
  {
   "cell_type": "code",
   "execution_count": 13,
   "id": "ccd365f4",
   "metadata": {},
   "outputs": [],
   "source": [
    "# Configuration\n",
    "base_url = \"http://localhost:5103\"  # Change if needed\n",
    "endpoint = \"/api/measurements?page=1&pageSize=1&continuationToken=\"\n",
    "token = \"token_1\"  # Actual token values (token_1: dataSource=SQL, token_2: dataSource=SQL, token_3: dataSource=CosmosDB)"
   ]
  },
  {
   "cell_type": "code",
   "execution_count": 14,
   "id": "4a9fbced",
   "metadata": {},
   "outputs": [
    {
     "name": "stdout",
     "output_type": "stream",
     "text": [
      "{\n",
      "    \"totalCount\": 0,\n",
      "    \"items\": [\n",
      "        {\n",
      "            \"id\": 3,\n",
      "            \"voltage\": 303,\n",
      "            \"current\": 313,\n",
      "            \"temperature\": 341,\n",
      "            \"timestamp\": \"2025-04-30T12:00:00Z\"\n",
      "        }\n",
      "    ],\n",
      "    \"continuationToken\": \"W3siY29tcG9zaXRlVG9rZW4iOnsidG9rZW4iOiIrUklEOn5jdjhQQU5oWXdRUUZBQUFBQUFBQUFBPT0jUlQ6MSNUUkM6MSNSVEQ6NEM0cXB4WHNDQisxMStiVFYzOUJCVE14TXpZdU1UVXVOREZWTWpNN01URTdNVEZiQUE9PSNJU1Y6MiNJRU86NjU1NjcjUUNGOjgjRlBDOkFRTUFBQUFBQUFBQUJRQUFBQUFBQUFBPSIsInJhbmdlIjp7Im1pbiI6IiIsIm1heCI6IkZGIn19LCJyZXN1bWVWYWx1ZXMiOlsiMjAyNS0wNC0zMFQxMjowMDowMFoiXSwicmlkIjoiY3Y4UEFOaFl3UVFGQUFBQUFBQUFBQT09Iiwic2tpcENvdW50IjowfV0=\"\n",
      "}\n"
     ]
    }
   ],
   "source": [
    "# Send request\n",
    "headers = {\n",
    "    \"X-Customer-Token\": token\n",
    "}\n",
    "response = requests.get(base_url + endpoint, headers=headers)\n",
    "\n",
    "# Check and display result\n",
    "if response.status_code == 200:\n",
    "    data = response.json()\n",
    "    print(json.dumps(data, indent=4))\n",
    "else:\n",
    "    print(f\"Failed to retrieve data: {response.status_code} - {response.text}\")"
   ]
  },
  {
   "cell_type": "code",
   "execution_count": null,
   "id": "b756d94f-d465-419c-8871-b07f93227cdf",
   "metadata": {},
   "outputs": [],
   "source": []
  }
 ],
 "metadata": {
  "kernelspec": {
   "display_name": "Python 3 (ipykernel)",
   "language": "python",
   "name": "python3"
  },
  "language_info": {
   "codemirror_mode": {
    "name": "ipython",
    "version": 3
   },
   "file_extension": ".py",
   "mimetype": "text/x-python",
   "name": "python",
   "nbconvert_exporter": "python",
   "pygments_lexer": "ipython3",
   "version": "3.9.6"
  }
 },
 "nbformat": 4,
 "nbformat_minor": 5
}
